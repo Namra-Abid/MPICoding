{
 "cells": [
  {
   "cell_type": "markdown",
   "id": "29ec1fe2-5a31-4a9e-a013-ac4e32ef6ade",
   "metadata": {},
   "source": [
    "# PART 1"
   ]
  },
  {
   "cell_type": "markdown",
   "id": "d2ec0f22-c6c0-4d36-a3b2-20d66a85badc",
   "metadata": {},
   "source": [
    "### TASK A"
   ]
  },
  {
   "cell_type": "code",
   "execution_count": 1,
   "id": "32e96f8b-4cd9-40c4-a07c-3095ec810441",
   "metadata": {},
   "outputs": [],
   "source": [
    "def summation(arg1, arg2):\n",
    "    return arg1 + arg2\n",
    "\n",
    "def subtraction(arg1, arg2):\n",
    "    return arg1 - arg2\n",
    "\n",
    "def multiplication(arg1, arg2):\n",
    "    return arg1 * arg2\n",
    "\n",
    "def division(arg1, arg2):\n",
    "    if arg2 == 0:\n",
    "        return \"Error: Division by zero\"\n",
    "    return arg1 / arg2\n"
   ]
  },
  {
   "cell_type": "code",
   "execution_count": 2,
   "id": "e22a2336-ff6e-4cc2-b056-e053452a6974",
   "metadata": {},
   "outputs": [
    {
     "name": "stdout",
     "output_type": "stream",
     "text": [
      "15\n",
      "5\n",
      "50\n",
      "2.0\n",
      "Error: Division by zero\n"
     ]
    }
   ],
   "source": [
    "print(summation(10, 5))        # Output: 15\n",
    "print(subtraction(10, 5))      # Output: 5\n",
    "print(multiplication(10, 5))   # Output: 50\n",
    "print(division(10, 5))         # Output: 2.0\n",
    "print(division(10, 0))         # Output: Error: Division by zero"
   ]
  },
  {
   "cell_type": "markdown",
   "id": "028d7ccc-c3c2-4e62-bac3-6ae98b8e7abb",
   "metadata": {},
   "source": [
    "### TASK B"
   ]
  },
  {
   "cell_type": "code",
   "execution_count": 15,
   "id": "a7e3ae4d-ae98-4cd8-a013-ea754f8e9fed",
   "metadata": {},
   "outputs": [
    {
     "name": "stdout",
     "output_type": "stream",
     "text": [
      "190\n",
      "190\n",
      "190\n"
     ]
    }
   ],
   "source": [
    "list_a=[1,3,5,7,9]\n",
    "list_b=[2,4,6,8,10]\n",
    "numpy_list_a=np.array([1,3,5,7,9])\n",
    "numpy_list_b=np.array([2,4,6,8,10])\n",
    "tuple_a=(1,3,5,7,9)\n",
    "tuple_b=(2,4,6,8,10)\n",
    "def dot_product_multipleinput(a, b):\n",
    "    try:\n",
    "        return sum(x * y for x, y in zip(a, b))\n",
    "    except TypeError:\n",
    "        return \"Error: Inputs must be iterable and contain numeric values\"\n",
    "    except Exception as e:\n",
    "        return f\"Error: {str(e)}\"\n",
    "print(dot_product_multipleinput(list_a,list_b))\n",
    "print(dot_product_multipleinput(numpy_list_a,numpy_list_b))\n",
    "print(dot_product_multipleinput(tuple_a,tuple_b))"
   ]
  },
  {
   "cell_type": "code",
   "execution_count": 9,
   "id": "898c8ea0-6abf-4ded-b236-1c09e9a31dac",
   "metadata": {},
   "outputs": [
    {
     "data": {
      "text/plain": [
       "190"
      ]
     },
     "execution_count": 9,
     "metadata": {},
     "output_type": "execute_result"
    }
   ],
   "source": [
    "list_a=[1,3,5,7,9]\n",
    "list_b=[2,4,6,8,10]\n",
    "def dot_product(list1,list2):\n",
    "    if len(list1) != len(list2):\n",
    "        return \"Error: Lists must be of the same length\"\n",
    "    return sum([a * b for a, b in zip(list1, list2)])\n",
    "dot_product (list_a,list_b) "
   ]
  },
  {
   "cell_type": "code",
   "execution_count": 10,
   "id": "20d9fd99-3541-4a46-b17c-3ac26e62d8d0",
   "metadata": {},
   "outputs": [
    {
     "data": {
      "text/plain": [
       "190"
      ]
     },
     "execution_count": 10,
     "metadata": {},
     "output_type": "execute_result"
    }
   ],
   "source": [
    "import numpy as np\n",
    "\n",
    "def dot_product_numpy(arr1, arr2):\n",
    "    arr1 = np.array(arr1)\n",
    "    arr2 = np.array(arr2)\n",
    "    if arr1.shape != arr2.shape:\n",
    "        return \"Error: Arrays must be the same shape\"\n",
    "    return np.dot(arr1, arr2)\n",
    "dot_product_numpy(list_a,list_b)"
   ]
  },
  {
   "cell_type": "markdown",
   "id": "bc09455f-bdf3-4a95-a253-46817c6bae10",
   "metadata": {},
   "source": [
    "### TASK C"
   ]
  },
  {
   "cell_type": "code",
   "execution_count": 22,
   "id": "6e63673c-c1af-4748-9b08-0c6a201cf85a",
   "metadata": {},
   "outputs": [
    {
     "data": {
      "text/plain": [
       "-1"
      ]
     },
     "execution_count": 22,
     "metadata": {},
     "output_type": "execute_result"
    }
   ],
   "source": [
    "1-2\n"
   ]
  },
  {
   "cell_type": "code",
   "execution_count": 28,
   "id": "84255ab1-bd86-46db-9b66-fa70f0b4a663",
   "metadata": {},
   "outputs": [
    {
     "name": "stdout",
     "output_type": "stream",
     "text": [
      "Welcome to the Command-Line Calculator!\n",
      "Operations: add, subtract, multiply, divide, dot, sumlist, exit,dividelist,addlist,subtractlist,multiplylist\n"
     ]
    },
    {
     "name": "stdin",
     "output_type": "stream",
     "text": [
      "\n",
      "Enter operation:  add\n",
      "Enter first number/list:  1\n",
      "Enter second number/list:  2\n"
     ]
    },
    {
     "name": "stdout",
     "output_type": "stream",
     "text": [
      "Result: 3.0\n"
     ]
    },
    {
     "name": "stdin",
     "output_type": "stream",
     "text": [
      "\n",
      "Enter operation:  divide\n",
      "Enter first number/list:  4\n",
      "Enter second number/list:  0\n"
     ]
    },
    {
     "name": "stdout",
     "output_type": "stream",
     "text": [
      "Result: Error: Division by zero\n"
     ]
    },
    {
     "name": "stdin",
     "output_type": "stream",
     "text": [
      "\n",
      "Enter operation:  divide\n",
      "Enter first number/list:  4\n",
      "Enter second number/list:  2\n"
     ]
    },
    {
     "name": "stdout",
     "output_type": "stream",
     "text": [
      "Result: 2.0\n"
     ]
    },
    {
     "name": "stdin",
     "output_type": "stream",
     "text": [
      "\n",
      "Enter operation:  dividelist\n",
      "Enter first number/list:  [8,4,9]\n",
      "Enter second number/list:  [4,0,3]\n"
     ]
    },
    {
     "name": "stdout",
     "output_type": "stream",
     "text": [
      "Result: [2.0, 0, 3.0]\n"
     ]
    },
    {
     "name": "stdin",
     "output_type": "stream",
     "text": [
      "\n",
      "Enter operation:  subtractlist\n",
      "Enter first number/list:  [1,2,3]\n",
      "Enter second number/list:  [2,2,2]\n"
     ]
    },
    {
     "name": "stdout",
     "output_type": "stream",
     "text": [
      "Result: [-1.0, 0.0, 1.0]\n"
     ]
    },
    {
     "name": "stdin",
     "output_type": "stream",
     "text": [
      "\n",
      "Enter operation:  exit\n"
     ]
    },
    {
     "name": "stdout",
     "output_type": "stream",
     "text": [
      "Goodbye!\n"
     ]
    }
   ],
   "source": [
    "def summation(a, b):\n",
    "    return a + b\n",
    "\n",
    "def subtraction(a, b):\n",
    "    return a - b\n",
    "\n",
    "def multiplication(a, b):\n",
    "    return a * b\n",
    "\n",
    "def division(a, b):\n",
    "    if b == 0:\n",
    "        return \"Error: Division by zero\"\n",
    "    return a / b\n",
    "\n",
    "def multiply_lists(list1, list2):\n",
    "    if len(list1) != len(list2):\n",
    "        return \"Error: Lists must be of same length\"\n",
    "    return [a * b for a, b in zip(list1, list2)]\n",
    "\n",
    "def divide_lists(list1, list2):\n",
    "    if len(list1) != len(list2):\n",
    "        return \"Error: Lists must be of same length\"\n",
    "    else:\n",
    "        result=[]\n",
    "        for a,b in zip(list1,list2):\n",
    "            if b!=0:\n",
    "                result.append(a/b)\n",
    "            else:\n",
    "                result.append(0)\n",
    "        return result \n",
    "\n",
    "def subract_lists(list1, list2):\n",
    "    if len(list1) != len(list2):\n",
    "        return \"Error: Lists must be of same length\"\n",
    "    else:\n",
    "        result=[]\n",
    "        for a,b in zip(list1,list2):\n",
    "            result.append(a-b)\n",
    "        return result \n",
    "def add_lists(list1, list2):\n",
    "    if len(list1) != len(list2):\n",
    "        return \"Error: Lists must be of same length\"\n",
    "    else:\n",
    "        result=[]\n",
    "        for a,b in zip(list1,list2):\n",
    "            result.append(a+b)\n",
    "        return result \n",
    "                \n",
    "def sum_list(numbers):\n",
    "    return sum(numbers)\n",
    "\n",
    "def dot_product(a, b):\n",
    "    try:\n",
    "        return sum(x * y for x, y in zip(a, b))\n",
    "    except Exception as e:\n",
    "        return f\"Error: {str(e)}\"\n",
    "\n",
    "def parse_input(value):\n",
    "    try:\n",
    "        # Try to interpret input as a list of numbers\n",
    "        if value.startswith('[') and value.endswith(']'):\n",
    "            return [float(x.strip()) for x in value[1:-1].split(',')]\n",
    "        return float(value)\n",
    "    except:\n",
    "        return \"Error: Invalid input\"\n",
    "\n",
    "def main():\n",
    "    print(\"Welcome to the Command-Line Calculator!\")\n",
    "    print(\"Operations: add, subtract, multiply, divide, dot, sumlist, exit,dividelist,addlist,subtractlist,multiplylist\")\n",
    "    \n",
    "    while True:\n",
    "        op = input(\"\\nEnter operation: \").strip().lower()\n",
    "\n",
    "        if op == \"exit\":\n",
    "            print(\"Goodbye!\")\n",
    "            break\n",
    "        \n",
    "        a_raw = input(\"Enter first number/list: \")\n",
    "        b_raw = input(\"Enter second number/list: \") if op not in [\"sumlist\"] else None\n",
    "\n",
    "        a = parse_input(a_raw)\n",
    "        b = parse_input(b_raw) if b_raw else None\n",
    "\n",
    "        if \"Error\" in str(a) or (b and \"Error\" in str(b)):\n",
    "            print(\"Invalid input format. Try again.\")\n",
    "            continue\n",
    "\n",
    "        if op == \"add\":\n",
    "            print(\"Result:\", summation(a, b))\n",
    "        elif op == \"subtract\":\n",
    "            print(\"Result:\", subtraction(a, b))\n",
    "        elif op == \"multiply\":\n",
    "            print(\"Result:\", multiplication(a, b))\n",
    "        elif op == \"divide\":\n",
    "            print(\"Result:\", division(a, b))\n",
    "        elif op == \"dot\":\n",
    "            print(\"Result:\", dot_product(a, b))\n",
    "        elif op == \"sumlist\":\n",
    "            print(\"Result:\", sum_list(a))\n",
    "        elif op==\"dividelist\":\n",
    "            print(\"Result:\",divide_lists(a,b))\n",
    "        elif op==\"subtractlist\":\n",
    "            print(\"Result:\",subract_lists(a,b))\n",
    "        elif op==\"addlist\":\n",
    "            print(\"Result:\",add_lists(a,b))\n",
    "        elif op==\"multiplylist\":\n",
    "            print(\"Result:\",multiply_lists(a,b)) \n",
    "        else:\n",
    "            print(\"Unknown operation. Try again.\")\n",
    "\n",
    "if __name__ == \"__main__\":\n",
    "    main()\n"
   ]
  },
  {
   "cell_type": "markdown",
   "id": "13f0b318-4437-4d2d-9e0b-33f555f5f0ef",
   "metadata": {},
   "source": [
    "# 2. Object Orientation"
   ]
  },
  {
   "cell_type": "code",
   "execution_count": 42,
   "id": "abe7ac04-a777-417e-bf0b-48d28c66fbb1",
   "metadata": {},
   "outputs": [
    {
     "name": "stdout",
     "output_type": "stream",
     "text": [
      "Addition: 15\n",
      "Subtraction: -5\n",
      "Multiplication: -5\n",
      "Division: 0.5\n"
     ]
    }
   ],
   "source": [
    "class Calculator:\n",
    "    def calculate(self,arg1,arg2):\n",
    "        raise NotImplementedError(\"Subclasses should implement this!\")\n",
    "class Add(Calculator):\n",
    "    def __init__(self,arg1,arg2):\n",
    "        self.arg1 = arg1\n",
    "        self.arg2 = arg2\n",
    "    def calculate(self):\n",
    "        return self.arg1 + self.arg2\n",
    "class Subtract(Calculator):\n",
    "    def __init__(self, arg1,arg2):\n",
    "        self.arg1 = arg1\n",
    "        self.arg2 = arg2\n",
    "    def calculate(self):\n",
    "        return self.arg1 - self.arg2\n",
    "class Multiply(Calculator):\n",
    "    def __init__(self, arg1,arg2):\n",
    "        self.arg1 = arg1\n",
    "        self.arg2 = arg2\n",
    "    def calculate(self):\n",
    "        return self.arg1 - self.arg2\n",
    "class Divide(Calculator):\n",
    "    def __init__(self, arg1,arg2):\n",
    "        self.arg1 = arg1\n",
    "        self.arg2 = arg2\n",
    "    def calculate(self):\n",
    "        if self.arg2 == 0:\n",
    "            return \"Error: Division by zero\"\n",
    "        return self.arg1 / self.arg2\n",
    "\n",
    "\n",
    "# Top-level Calculator class (2A)\n",
    "class Calculator:\n",
    "    def compute(self, operation):\n",
    "        return operation.calculate()\n",
    "\n",
    "\n",
    "# Usage\n",
    "calc = Calculator()\n",
    "\n",
    "\n",
    "# # Usage\n",
    "# add = Add(5, 10)\n",
    "# print(f\"addition : {add.calculate()}\")\n",
    "\n",
    "# subtract=Subtract(5,10)\n",
    "# print(f\"subtract :{subtract.calculate()}\")\n",
    "\n",
    "# multiplication=Multiply(5,10)\n",
    "# print(f\"multiplication :{multiplication.calculate()}\")\n",
    "\n",
    "# division = Divide(5, 10)\n",
    "# print(f\"division :{division.calculate()}\")\n",
    "\n",
    "print(\"Addition:\", calc.compute(Add(5, 10)))\n",
    "print(\"Subtraction:\", calc.compute(Subtract(5, 10)))\n",
    "print(\"Multiplication:\", calc.compute(Multiply(5, 10)))\n",
    "print(\"Division:\", calc.compute(Divide(5, 10)))"
   ]
  },
  {
   "cell_type": "code",
   "execution_count": 35,
   "id": "94e61325-d861-4236-b972-cab8f1aea743",
   "metadata": {},
   "outputs": [
    {
     "data": {
      "text/plain": [
       "15"
      ]
     },
     "execution_count": 35,
     "metadata": {},
     "output_type": "execute_result"
    }
   ],
   "source": [
    "# def print_calculation(operation):\n",
    "#     print(f\"The area is: {operation.calculate()}\")\n",
    "\n"
   ]
  },
  {
   "cell_type": "code",
   "execution_count": null,
   "id": "44aa7596-1fdb-4f25-a296-87e978f23405",
   "metadata": {},
   "outputs": [],
   "source": [
    "# "
   ]
  },
  {
   "cell_type": "code",
   "execution_count": null,
   "id": "69ec58de-7289-454b-8ee8-be4a667ede12",
   "metadata": {},
   "outputs": [],
   "source": []
  },
  {
   "cell_type": "code",
   "execution_count": null,
   "id": "d6b0251d-5f46-4093-a41a-727527e88cf9",
   "metadata": {},
   "outputs": [],
   "source": []
  },
  {
   "cell_type": "code",
   "execution_count": null,
   "id": "8c00a006-a12b-4843-849c-8bdb05038143",
   "metadata": {},
   "outputs": [],
   "source": []
  },
  {
   "cell_type": "code",
   "execution_count": null,
   "id": "53844ade-e6ba-46b0-ade2-8c7cd67816b4",
   "metadata": {},
   "outputs": [],
   "source": []
  },
  {
   "cell_type": "code",
   "execution_count": null,
   "id": "226205ff-14e2-4cdb-90a8-049941f196df",
   "metadata": {},
   "outputs": [],
   "source": []
  },
  {
   "cell_type": "code",
   "execution_count": null,
   "id": "07dc32c7-f984-4b77-bf12-728c3346907b",
   "metadata": {},
   "outputs": [],
   "source": []
  },
  {
   "cell_type": "code",
   "execution_count": null,
   "id": "3c348ab6-3046-45ab-80f5-9ee65dbecea7",
   "metadata": {},
   "outputs": [],
   "source": []
  },
  {
   "cell_type": "code",
   "execution_count": null,
   "id": "cfd9e67e-326b-4215-ab8f-f9c473be2a7d",
   "metadata": {},
   "outputs": [],
   "source": []
  },
  {
   "cell_type": "code",
   "execution_count": null,
   "id": "ce4085cf-cb81-48ea-9747-d7f061171837",
   "metadata": {},
   "outputs": [],
   "source": []
  }
 ],
 "metadata": {
  "kernelspec": {
   "display_name": "Python 3 (ipykernel)",
   "language": "python",
   "name": "python3"
  },
  "language_info": {
   "codemirror_mode": {
    "name": "ipython",
    "version": 3
   },
   "file_extension": ".py",
   "mimetype": "text/x-python",
   "name": "python",
   "nbconvert_exporter": "python",
   "pygments_lexer": "ipython3",
   "version": "3.11.0"
  }
 },
 "nbformat": 4,
 "nbformat_minor": 5
}
